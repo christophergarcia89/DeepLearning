{
  "nbformat": 4,
  "nbformat_minor": 0,
  "metadata": {
    "colab": {
      "name": "laboratorio02.ipynb",
      "provenance": [],
      "collapsed_sections": [],
      "toc_visible": true
    },
    "kernelspec": {
      "name": "python3",
      "display_name": "Python 3"
    },
    "accelerator": "GPU"
  },
  "cells": [
    {
      "cell_type": "markdown",
      "metadata": {
        "id": "qk5j4fyM-Kwr",
        "colab_type": "text"
      },
      "source": [
        "# Taller 02: Redes recurrentes\n",
        "\n",
        "**Integrantes:** (*Máximo grupos de 3*)\n",
        "\n",
        "*   Christopher García\n",
        "*   Gabriel Contreras\n",
        "*   <Integrante 3>\n",
        "\n",
        "\n",
        "\n",
        "El taller tiene como objetivo construir un clasificador utilizando redes recurrentes LSTM. Para esto, se replicará el problema visto en clases para la clasificación de nombres y apellidos al País que pertenecen. Una vez terminado la implementación del taller se pide comparar la eficiencia de ambos clasificadores a partir de la matriz de confusión.\n",
        "\n",
        "Se debe tener en cuenta que en la evaluación de resultados se deben utilizar los mismos ejemplos. Por lo que deberá evaluar simultáneamente el clasificador de red recurrente simple y la red LSTM.\n",
        "\n",
        "Las métricas solicitadas para la comparación de ambos clasifificadores son: Tasa de acierto, presición, sensibilidad (*recall*) y f1-score.\n",
        "\n",
        "**Referencias:**\n",
        "https://scikit-learn.org/stable/modules/generated/sklearn.metrics.classification_report.html#sklearn.metrics.classification_report \n",
        "\n",
        "## 1. Preparar los datos\n",
        "\n",
        "Utilizar el código mostrado en clases para cargar y acondicionar los datos:"
      ]
    },
    {
      "cell_type": "code",
      "metadata": {
        "id": "ZFh-d6Zh-JqV",
        "colab_type": "code",
        "colab": {
          "base_uri": "https://localhost:8080/",
          "height": 102
        },
        "outputId": "84a21854-7144-454f-d9d0-7897f30b7fee"
      },
      "source": [
        "%matplotlib inline\n",
        "\n",
        "from google.colab import drive\n",
        "drive.mount('/content/drive')\n",
        "\n",
        "import unicodedata\n",
        "import string\n",
        "import glob # Esta instruccion para los nombres de un archivo dado un path\n",
        "import os\n",
        "\n",
        "PATH_TEXT = '/content/drive/My Drive/DATA/Magister Data Science/Deep Learning/data/names'\n",
        "\n",
        "all_letters = string.ascii_letters + \" .,;'\"\n",
        "n_letters = len(all_letters)\n",
        "\n",
        "print(n_letters)\n",
        "\n",
        "# Convertir el código Unicode al texto ASCII (https://stackoverflow.com/a/518232/2809427)\n",
        "def unicodeToAscii(s):\n",
        "  return ''.join(\n",
        "      c for c in unicodedata.normalize('NFD', s)\n",
        "      if unicodedata.category(c) != 'Mn'\n",
        "      and c in all_letters\n",
        "  )\n",
        "\n",
        "#print(unicodeToAscii('Ślusàrski'))\n",
        "\n",
        "# Leer los archivos y los cargaremos en un estructura de tipo diccionario\n",
        "category_lines = {}\n",
        "all_categories = []\n",
        "\n",
        "def readLines(filenames):\n",
        "  lines = open(filename, encoding='utf-8').read().strip().split('\\n')\n",
        "  return [unicodeToAscii(line) for line in lines]\n",
        "\n",
        "for filename in glob.glob(f'{PATH_TEXT}/*.txt'):\n",
        "  category = os.path.splitext(os.path.basename(filename))[0]\n",
        "  all_categories.append(category)\n",
        "  lines = readLines(filename)\n",
        "  category_lines[category] = lines\n",
        "\n",
        "n_categories = len(all_categories)\n",
        "print(n_categories)\n",
        "\n",
        "print(all_categories)\n",
        "print(category_lines['Spanish'][:10])"
      ],
      "execution_count": 1,
      "outputs": [
        {
          "output_type": "stream",
          "text": [
            "Drive already mounted at /content/drive; to attempt to forcibly remount, call drive.mount(\"/content/drive\", force_remount=True).\n",
            "57\n",
            "18\n",
            "['Dutch', 'Italian', 'Spanish', 'Czech', 'Scottish', 'Portuguese', 'Arabic', 'Greek', 'Chinese', 'Vietnamese', 'Japanese', 'French', 'German', 'Korean', 'English', 'Russian', 'Polish', 'Irish']\n",
            "['Abana', 'Abano', 'Abarca', 'Abaroa', 'Abascal', 'Abasolo', 'Abel', 'Abello', 'Aberquero', 'Abreu']\n"
          ],
          "name": "stdout"
        }
      ]
    },
    {
      "cell_type": "markdown",
      "metadata": {
        "id": "f1VKQpg9FDAo",
        "colab_type": "text"
      },
      "source": [
        "## 2. Preparar los datos a formato Pytorch para red neuronal recurrente\n",
        "\n",
        "Convertirmos las palabras (apellidos y nombres) a formato ***one-hot vector***. Además se contruye a formato tensor para poder utilizar la GPU vía Pytorch."
      ]
    },
    {
      "cell_type": "code",
      "metadata": {
        "id": "5vmM0ErjFD56",
        "colab_type": "code",
        "colab": {
          "base_uri": "https://localhost:8080/",
          "height": 510
        },
        "outputId": "b62940d8-a13f-46b3-98df-50c49cc5de79"
      },
      "source": [
        "import torch\n",
        "\n",
        "# Encontrar el indice de una letra en all_letters\n",
        "def letterToIndex(letter):\n",
        "  return all_letters.find(letter)\n",
        "\n",
        "# Construir un vector one-hot letter (Ilustrativo)\n",
        "def letterToTensor(letter):\n",
        "  tensor = torch.zeros(1, n_letters)\n",
        "  tensor[0][letterToIndex(letter)] = 1\n",
        "  return tensor\n",
        "\n",
        "def lineToTensor(line):\n",
        "  tensor = torch.zeros(len(line), 1, n_letters)\n",
        "  for li, letter in enumerate(line):\n",
        "    tensor[li][0][letterToIndex(letter)] = 1\n",
        "\n",
        "  return tensor\n",
        "\n",
        "print(lineToTensor('garcia'))"
      ],
      "execution_count": 2,
      "outputs": [
        {
          "output_type": "stream",
          "text": [
            "tensor([[[0., 0., 0., 0., 0., 0., 1., 0., 0., 0., 0., 0., 0., 0., 0., 0., 0.,\n",
            "          0., 0., 0., 0., 0., 0., 0., 0., 0., 0., 0., 0., 0., 0., 0., 0., 0.,\n",
            "          0., 0., 0., 0., 0., 0., 0., 0., 0., 0., 0., 0., 0., 0., 0., 0., 0.,\n",
            "          0., 0., 0., 0., 0., 0.]],\n",
            "\n",
            "        [[1., 0., 0., 0., 0., 0., 0., 0., 0., 0., 0., 0., 0., 0., 0., 0., 0.,\n",
            "          0., 0., 0., 0., 0., 0., 0., 0., 0., 0., 0., 0., 0., 0., 0., 0., 0.,\n",
            "          0., 0., 0., 0., 0., 0., 0., 0., 0., 0., 0., 0., 0., 0., 0., 0., 0.,\n",
            "          0., 0., 0., 0., 0., 0.]],\n",
            "\n",
            "        [[0., 0., 0., 0., 0., 0., 0., 0., 0., 0., 0., 0., 0., 0., 0., 0., 0.,\n",
            "          1., 0., 0., 0., 0., 0., 0., 0., 0., 0., 0., 0., 0., 0., 0., 0., 0.,\n",
            "          0., 0., 0., 0., 0., 0., 0., 0., 0., 0., 0., 0., 0., 0., 0., 0., 0.,\n",
            "          0., 0., 0., 0., 0., 0.]],\n",
            "\n",
            "        [[0., 0., 1., 0., 0., 0., 0., 0., 0., 0., 0., 0., 0., 0., 0., 0., 0.,\n",
            "          0., 0., 0., 0., 0., 0., 0., 0., 0., 0., 0., 0., 0., 0., 0., 0., 0.,\n",
            "          0., 0., 0., 0., 0., 0., 0., 0., 0., 0., 0., 0., 0., 0., 0., 0., 0.,\n",
            "          0., 0., 0., 0., 0., 0.]],\n",
            "\n",
            "        [[0., 0., 0., 0., 0., 0., 0., 0., 1., 0., 0., 0., 0., 0., 0., 0., 0.,\n",
            "          0., 0., 0., 0., 0., 0., 0., 0., 0., 0., 0., 0., 0., 0., 0., 0., 0.,\n",
            "          0., 0., 0., 0., 0., 0., 0., 0., 0., 0., 0., 0., 0., 0., 0., 0., 0.,\n",
            "          0., 0., 0., 0., 0., 0.]],\n",
            "\n",
            "        [[1., 0., 0., 0., 0., 0., 0., 0., 0., 0., 0., 0., 0., 0., 0., 0., 0.,\n",
            "          0., 0., 0., 0., 0., 0., 0., 0., 0., 0., 0., 0., 0., 0., 0., 0., 0.,\n",
            "          0., 0., 0., 0., 0., 0., 0., 0., 0., 0., 0., 0., 0., 0., 0., 0., 0.,\n",
            "          0., 0., 0., 0., 0., 0.]]])\n"
          ],
          "name": "stdout"
        }
      ]
    },
    {
      "cell_type": "markdown",
      "metadata": {
        "id": "5OTG_c0lFvju",
        "colab_type": "text"
      },
      "source": [
        "## 3. Crear modelos\n",
        "\n",
        "Para comparar los resultados se pide construir:\n",
        "\n",
        "\n",
        "*   Modelo de red neuronal recurrente simple (vista en clases)\n",
        "*   Modelo de red neuronal LSTM (Implementar)\n",
        "\n"
      ]
    },
    {
      "cell_type": "code",
      "metadata": {
        "id": "K7lCD86jGKrS",
        "colab_type": "code",
        "colab": {
          "base_uri": "https://localhost:8080/",
          "height": 357
        },
        "outputId": "460494c3-5f24-45e6-ff50-0e7df9300758"
      },
      "source": [
        "# Modelo de red neuronal recurrente simple\n",
        "import torch.nn as nn\n",
        "\n",
        "class RNN(nn.Module):\n",
        "  def __init__(self, input_size, hidden_size, output_size):\n",
        "    super(RNN, self).__init__()\n",
        "\n",
        "    # Construir componentes\n",
        "    self.hidden_size = hidden_size\n",
        "    # Salida de estado oculto\n",
        "    self.i2h = nn.Linear(input_size + hidden_size, hidden_size)\n",
        "    # Salida a estimar\n",
        "    self.i2o = nn.Linear(input_size + hidden_size, output_size)\n",
        "    self.softmax = nn.LogSoftmax(dim=1)\n",
        "\n",
        "  def forward(self, input, hidden):\n",
        "    combined = torch.cat((input, hidden), 1) # vector --> [1 x (input + hidden)]\n",
        "    hidden = self.i2h(combined)\n",
        "    output = self.i2o(combined)\n",
        "    output = self.softmax(output)\n",
        "    return output, hidden\n",
        "\n",
        "  def initHidden(self):\n",
        "    return torch.zeros(1, self.hidden_size)\n",
        "\n",
        "n_hidden = 128\n",
        "\n",
        "# n_letters --> Cantidad de letras que uso para representar mis palabras (57)\n",
        "# n_hidden --> Tamaño del vector de estado oculto (128)\n",
        "# n_categories --> La cantidad de paises (18)\n",
        "rnn = RNN(n_letters, n_hidden, n_categories)\n",
        "\n",
        "\n",
        "input = letterToTensor('A')\n",
        "hidden = torch.zeros(1, n_hidden)\n",
        "\n",
        "output, next_hidden = rnn(input, hidden)\n",
        "\n",
        "print(output)\n",
        "print(next_hidden)"
      ],
      "execution_count": 3,
      "outputs": [
        {
          "output_type": "stream",
          "text": [
            "tensor([[-2.8746, -2.8677, -2.8668, -2.9768, -2.8941, -2.8973, -2.9528, -2.9020,\n",
            "         -2.8433, -2.8118, -2.9046, -2.8630, -2.9945, -2.8202, -2.8583, -2.8108,\n",
            "         -2.9158, -3.0008]], grad_fn=<LogSoftmaxBackward>)\n",
            "tensor([[ 0.0072,  0.1282, -0.0446,  0.0326, -0.0010,  0.0282,  0.0303, -0.1076,\n",
            "         -0.0062, -0.0588, -0.0104,  0.0940,  0.0080,  0.0214, -0.0022, -0.0196,\n",
            "          0.0186,  0.0830,  0.0236,  0.0450, -0.0763, -0.0494, -0.0048, -0.0280,\n",
            "         -0.0666,  0.0217, -0.0323,  0.0211, -0.0229, -0.0567, -0.0648, -0.1171,\n",
            "          0.1447,  0.0823,  0.0296,  0.0665,  0.1350,  0.0155,  0.1205, -0.0384,\n",
            "          0.1181,  0.0388,  0.1356, -0.0186,  0.0248, -0.0144, -0.0114, -0.0394,\n",
            "          0.1263, -0.0697,  0.1258, -0.0741, -0.1460,  0.0166, -0.0579, -0.1141,\n",
            "          0.0675,  0.0556, -0.1032,  0.0587,  0.1184,  0.0093,  0.0197,  0.0800,\n",
            "         -0.0021,  0.0003,  0.0571, -0.0017, -0.0465,  0.0292, -0.0953, -0.1181,\n",
            "          0.1018, -0.0260,  0.0128,  0.0531, -0.0365, -0.0046,  0.1228,  0.0011,\n",
            "         -0.1014,  0.1048,  0.1386,  0.0333, -0.0663, -0.1081, -0.0648,  0.0049,\n",
            "          0.0974, -0.0546, -0.0268,  0.0776, -0.0144, -0.0008,  0.1287, -0.0404,\n",
            "          0.1018,  0.0956, -0.0860,  0.0641,  0.0654, -0.0524, -0.0520,  0.0803,\n",
            "          0.0714, -0.0207, -0.0009,  0.0618, -0.0055, -0.0532,  0.0797, -0.0202,\n",
            "         -0.0700,  0.1338, -0.0327, -0.0118,  0.0110, -0.0093,  0.0260,  0.0515,\n",
            "          0.0552, -0.0377,  0.0109, -0.0140,  0.1280, -0.0140,  0.0499, -0.1349]],\n",
            "       grad_fn=<AddmmBackward>)\n"
          ],
          "name": "stdout"
        }
      ]
    },
    {
      "cell_type": "code",
      "metadata": {
        "id": "upQQez_FGLBV",
        "colab_type": "code",
        "colab": {}
      },
      "source": [
        "# Modelo de red neuronal LSTM\n",
        "\n",
        "class LSTM(nn.Module):\n",
        "    def __init__(self, input_size, hidden_size, output_size):\n",
        "        super(LSTM, self).__init__()\n",
        "        self.hidden_size = hidden_size\n",
        "        self.lstm_cell = nn.LSTM(input_size, hidden_size)\n",
        "        self.h2o = nn.Linear(hidden_size, output_size)\n",
        "        self.softmax = nn.LogSoftmax(dim = 2)\n",
        "\n",
        "    def forward(self, input_, hidden):\n",
        "        out, hidden = self.lstm_cell(input_.view(1, 1, -1), hidden)\n",
        "        output = self.h2o(hidden[0])\n",
        "        output = self.softmax(output)\n",
        "        return output.view(1, -1), hidden\n",
        "\n",
        "    def init_hidden(self):\n",
        "        return (torch.zeros(1, 1, self.hidden_size), torch.zeros(1, 1, self.hidden_size))\n",
        "\n",
        "n_hidden = 128\n",
        "\n",
        "# n_letters --> Cantidad de letras que uso para representar mis palabras (57)\n",
        "# n_hidden --> Tamaño del vector de estado oculto (128)\n",
        "# n_categories --> La cantidad de paises (18)\n",
        "lstm = LSTM(n_letters, n_hidden, n_categories)"
      ],
      "execution_count": 4,
      "outputs": []
    },
    {
      "cell_type": "markdown",
      "metadata": {
        "id": "6i1RvGipGRti",
        "colab_type": "text"
      },
      "source": [
        "## 5. Generación de ejemplos aleatorios\n",
        "\n",
        "Como se tienen diferentes palabras y categorías es que se optó por utilizar ejemplos generados de forma aleatoria. \n",
        "\n",
        "Para entrenar los modelos utilizaremos los mismo ejemplos generados por `randomChoiceExample`. Se debe considerar está condición en la implementación."
      ]
    },
    {
      "cell_type": "code",
      "metadata": {
        "id": "CQsL8tzxG5P7",
        "colab_type": "code",
        "colab": {
          "base_uri": "https://localhost:8080/",
          "height": 391
        },
        "outputId": "e49ced7e-81f5-4c1f-ad9c-b1c5f9a9f4e8"
      },
      "source": [
        "# Implementación randomTrainingExample()\n",
        "def categoryFromOutput(output):\n",
        "  top_n, top_i = output.topk(1)\n",
        "  category_i = top_i[0].item()\n",
        "  return all_categories[category_i], category_i\n",
        "\n",
        "print(categoryFromOutput(output))\n",
        "\n",
        "import random\n",
        "\n",
        "# Elige un elemento de lista en forma aleatoria\n",
        "def randomChoice(lista):\n",
        "  return lista[random.randint(0, len(lista)-1)]\n",
        "\n",
        "def randomTrainingExample():\n",
        "  category = randomChoice(all_categories)\n",
        "  # Selecciono la palabra (nombre) de una categoria\n",
        "  line = randomChoice(category_lines[category])\n",
        "  # Convertir tensores\n",
        "  category_tensor = torch.tensor([all_categories.index(category)], dtype=torch.long)\n",
        "  line_tensor = lineToTensor(line)\n",
        "  return category, line, category_tensor, line_tensor\n",
        "\n",
        "print(all_categories)\n",
        "for i in range(20):\n",
        "  category, line, category_tensor, line_tensor = randomTrainingExample()\n",
        "  print('categoria=', category, '/ palabra=', line)"
      ],
      "execution_count": 5,
      "outputs": [
        {
          "output_type": "stream",
          "text": [
            "('Russian', 15)\n",
            "['Dutch', 'Italian', 'Spanish', 'Czech', 'Scottish', 'Portuguese', 'Arabic', 'Greek', 'Chinese', 'Vietnamese', 'Japanese', 'French', 'German', 'Korean', 'English', 'Russian', 'Polish', 'Irish']\n",
            "categoria= Polish / palabra= Chlebek\n",
            "categoria= Japanese / palabra= Komon\n",
            "categoria= Dutch / palabra= Segers\n",
            "categoria= Czech / palabra= Svoboda\n",
            "categoria= Polish / palabra= Majewski\n",
            "categoria= Irish / palabra= Riagan\n",
            "categoria= Polish / palabra= Gomolka\n",
            "categoria= French / palabra= Masson\n",
            "categoria= Russian / palabra= Ponasov\n",
            "categoria= German / palabra= Siegel\n",
            "categoria= English / palabra= Oneil\n",
            "categoria= Dutch / palabra= Meeuwis\n",
            "categoria= German / palabra= Knochenmus\n",
            "categoria= English / palabra= Falconer\n",
            "categoria= Spanish / palabra= Petit\n",
            "categoria= Italian / palabra= Fierro\n",
            "categoria= Greek / palabra= Karkampasis\n",
            "categoria= Italian / palabra= Aiolfi\n",
            "categoria= Spanish / palabra= Avana\n",
            "categoria= Spanish / palabra= Abascal\n"
          ],
          "name": "stdout"
        }
      ]
    },
    {
      "cell_type": "markdown",
      "metadata": {
        "id": "tu2TrVbyHA3S",
        "colab_type": "text"
      },
      "source": [
        "## 6. Entrenamiento de los modelos\n",
        "\n",
        "Para el entrenamiento se utilizarán los **mismos parámetros utilizados en clases para entrenar ambos modelos**. Se recomienda entrenar ambos modelos en el mismo ciclo.\n"
      ]
    },
    {
      "cell_type": "code",
      "metadata": {
        "id": "a1mhSDxYIXdJ",
        "colab_type": "code",
        "colab": {
          "base_uri": "https://localhost:8080/",
          "height": 697
        },
        "outputId": "92c1586a-abd0-403f-f3a9-50dee588f13c"
      },
      "source": [
        "# Definir función de pérdida para ambos modelos\n",
        "criterion = nn.NLLLoss()\n",
        "\n",
        "# Definir tasa de aprendizaje\n",
        "learning_rate = 0.005\n",
        "\n",
        "# Función de entrenamiento RNN\n",
        "def train_rnn(category_tensor, line_tensor):\n",
        "  # Inicializar la capa hidden en cero\n",
        "  hidden = rnn.initHidden()\n",
        "\n",
        "  rnn.zero_grad()\n",
        "\n",
        "  for i in range(line_tensor.size()[0]):\n",
        "    output, hidden = rnn(line_tensor[i], hidden)\n",
        "\n",
        "  loss = criterion(output, category_tensor)\n",
        "  loss.backward()\n",
        "\n",
        "  # Actualizar los parametros del modelo\n",
        "  for p in rnn.parameters():\n",
        "    p.data.add_(p.grad.data, alpha=-learning_rate)\n",
        "\n",
        "  return output, loss.item()\n",
        "\n",
        "# Función de entrenamiento LSTM\n",
        "def train_lstm(category_tensor, line_tensor):\n",
        "  # Inicializar la capa hidden en cero\n",
        "  hidden = lstm.init_hidden()\n",
        "\n",
        "  lstm.zero_grad()\n",
        "\n",
        "  for i in range(line_tensor.size()[0]):\n",
        "    output, hidden = lstm(line_tensor[i], hidden)\n",
        "\n",
        "  loss = criterion(output, category_tensor)\n",
        "  loss.backward()\n",
        "\n",
        "  # Actualizar los parametros del modelo\n",
        "  for p in lstm.parameters():\n",
        "    p.data.add_(p.grad.data, alpha=-learning_rate)\n",
        "\n",
        "  return output, loss.item()\n",
        "\n",
        "# Entrenamiento \n",
        "import time\n",
        "import math\n",
        "\n",
        "n_iters = 100000\n",
        "print_every = 5000\n",
        "plot_every = 1000\n",
        "\n",
        "# Guardamos la perdida\n",
        "current_loss_rnn = 0\n",
        "all_losses_rnn = []\n",
        "current_loss_lstm = 0\n",
        "all_losses_lstm = []\n",
        "\n",
        "def timeSince(since):\n",
        "  now = time.time()\n",
        "  s = now -since\n",
        "  m = math.floor(s/60)\n",
        "  s -= m *60\n",
        "  return '%dm %ds' % (m, s)\n",
        "\n",
        "start = time.time()\n",
        "\n",
        "#Ciclo RNN\n",
        "for iter_rnn in range(1, n_iters + 1):\n",
        "  # Obtener una categoria y una palabra de forma aleatoria\n",
        "  category, line, category_tensor, line_tensor = randomTrainingExample()\n",
        "  output, loss = train_rnn(category_tensor, line_tensor)\n",
        "  current_loss_rnn += loss\n",
        "\n",
        "  # Imprimir los resultados\n",
        "  if iter_rnn % print_every == 0: \n",
        "    guess, guess_i = categoryFromOutput(output)\n",
        "    correct = 'OK' if guess == category else 'ERROR (%s)' % category\n",
        "    print('%d %d%% (%s) %.4f %s / %s %s' % (iter_rnn, iter_rnn/n_iters * 100, timeSince(start),loss, line, guess, correct))\n",
        "\n",
        "  if iter_rnn % plot_every == 0:\n",
        "    all_losses_rnn.append(current_loss_rnn / plot_every)\n",
        "    current_loss_rnn = 0\n",
        "\n",
        "#Ciclo LSTM\n",
        "for iter_lstm in range(1, n_iters + 1):\n",
        "  # Obtener una categoria y una palabra de forma aleatoria\n",
        "  category, line, category_tensor, line_tensor = randomTrainingExample()\n",
        "  output, loss = train_lstm(category_tensor, line_tensor)\n",
        "  current_loss_lstm += loss\n",
        "\n",
        "  # Imprimir los resultados\n",
        "  if iter_lstm % print_every == 0: \n",
        "    guess, guess_i = categoryFromOutput(output)\n",
        "    correct = 'OK' if guess == category else 'ERROR (%s)' % category\n",
        "    print('%d %d%% (%s) %.4f %s / %s %s' % (iter_lstm, iter_lstm/n_iters * 100, timeSince(start),loss, line, guess, correct))\n",
        "\n",
        "  if iter_lstm % plot_every == 0:\n",
        "    all_losses_lstm.append(current_loss_lstm / plot_every)\n",
        "    current_loss_lstm = 0"
      ],
      "execution_count": 6,
      "outputs": [
        {
          "output_type": "stream",
          "text": [
            "5000 5% (0m 4s) 1.8723 Gabrielli / Italian OK\n",
            "10000 10% (0m 9s) 2.2863 Viteri / Italian ERROR (Spanish)\n",
            "15000 15% (0m 14s) 1.3159 To / Vietnamese OK\n",
            "20000 20% (0m 18s) 6.9050 Park  / Polish ERROR (Korean)\n",
            "25000 25% (0m 23s) 1.5666 Sayegh / Arabic OK\n",
            "30000 30% (0m 28s) 1.7147 Mcintosh / Italian ERROR (Scottish)\n",
            "35000 35% (0m 33s) 0.1295 Zhestkov / Russian OK\n",
            "40000 40% (0m 37s) 3.1973 Close / Irish ERROR (Greek)\n",
            "45000 45% (0m 42s) 0.2355 Atshushi / Japanese OK\n",
            "50000 50% (0m 46s) 2.4161 Rhys / Korean ERROR (Irish)\n",
            "55000 55% (0m 51s) 2.5542 D'aramitz / Irish ERROR (French)\n",
            "60000 60% (0m 56s) 3.4441 Gillespie / Italian ERROR (English)\n",
            "65000 65% (1m 0s) 0.8568 Herbert / German OK\n",
            "70000 70% (1m 5s) 2.2411 Pae / Vietnamese ERROR (Korean)\n",
            "75000 75% (1m 10s) 1.4286 Chang / Vietnamese ERROR (Korean)\n",
            "80000 80% (1m 14s) 2.4960 Gaspar / Arabic ERROR (Spanish)\n",
            "85000 85% (1m 19s) 0.1654 Horiatis / Greek OK\n",
            "90000 90% (1m 24s) 1.1654 Jordan / Polish OK\n",
            "95000 95% (1m 28s) 4.8905 Weichert / Dutch ERROR (Czech)\n",
            "100000 100% (1m 33s) 3.3828 Ross / Greek ERROR (Scottish)\n",
            "5000 5% (1m 47s) 2.9119 Pantelas / Czech ERROR (Greek)\n",
            "10000 10% (2m 2s) 2.8976 Toshishai / Greek ERROR (Japanese)\n",
            "15000 15% (2m 16s) 2.7416 Lesauvage / French OK\n",
            "20000 20% (2m 31s) 2.9037 Eikhe / Dutch ERROR (Russian)\n",
            "25000 25% (2m 45s) 2.9138 Hughes / Greek ERROR (Scottish)\n",
            "30000 30% (2m 59s) 2.5984 Spicka / Japanese ERROR (Czech)\n",
            "35000 35% (3m 14s) 2.8801 Tolkien / Russian ERROR (German)\n",
            "40000 40% (3m 28s) 1.2764 Hiu / Korean ERROR (Chinese)\n",
            "45000 45% (3m 42s) 2.7530 O'Toole / French ERROR (Irish)\n",
            "50000 50% (3m 57s) 1.7227 Jindra / Spanish ERROR (Czech)\n",
            "55000 55% (4m 11s) 1.6972 Herriot / French OK\n",
            "60000 60% (4m 25s) 1.6499 Tracey / Irish OK\n",
            "65000 65% (4m 39s) 1.2179 Tholberg / Dutch OK\n",
            "70000 70% (4m 54s) 1.0824 Kui / Chinese OK\n",
            "75000 75% (5m 8s) 1.2837 Herbert / French OK\n",
            "80000 80% (5m 22s) 0.3931 Paredes / Portuguese OK\n",
            "85000 85% (5m 36s) 1.1356 San / Chinese ERROR (Korean)\n",
            "90000 90% (5m 51s) 0.6391 Seok / Korean OK\n",
            "95000 95% (6m 5s) 1.2071 Mcdonald / Irish ERROR (Scottish)\n",
            "100000 100% (6m 20s) 0.9905 Basurto / Portuguese OK\n"
          ],
          "name": "stdout"
        }
      ]
    },
    {
      "cell_type": "markdown",
      "metadata": {
        "id": "9AKt-EeCIwJl",
        "colab_type": "text"
      },
      "source": [
        "## 7. Graficar resultados\n",
        "\n",
        "Graficar la función de pérdida para ambos modelos."
      ]
    },
    {
      "cell_type": "code",
      "metadata": {
        "id": "eccpj6bhI8sT",
        "colab_type": "code",
        "colab": {
          "base_uri": "https://localhost:8080/",
          "height": 282
        },
        "outputId": "aa8f8312-77ac-49fb-f0bf-9acf43e2dd3d"
      },
      "source": [
        "import matplotlib.pyplot as plt\n",
        "import matplotlib.ticker as ticker\n",
        "\n",
        "plt.figure()\n",
        "plt.plot(all_losses_rnn)"
      ],
      "execution_count": 9,
      "outputs": [
        {
          "output_type": "execute_result",
          "data": {
            "text/plain": [
              "[<matplotlib.lines.Line2D at 0x7fb79db30390>]"
            ]
          },
          "metadata": {
            "tags": []
          },
          "execution_count": 9
        },
        {
          "output_type": "display_data",
          "data": {
            "image/png": "[encoded data removed]",
            "text/plain": [
              "<Figure size 432x288 with 1 Axes>"
            ]
          },
          "metadata": {
            "tags": [],
            "needs_background": "light"
          }
        }
      ]
    },
    {
      "cell_type": "code",
      "metadata": {
        "id": "CxinExNnNimf",
        "colab_type": "code",
        "colab": {
          "base_uri": "https://localhost:8080/",
          "height": 282
        },
        "outputId": "b2268af6-ac9f-4f21-9950-fa163273e02d"
      },
      "source": [
        "plt.figure()\n",
        "plt.plot(all_losses_lstm)"
      ],
      "execution_count": 10,
      "outputs": [
        {
          "output_type": "execute_result",
          "data": {
            "text/plain": [
              "[<matplotlib.lines.Line2D at 0x7fb79d632ba8>]"
            ]
          },
          "metadata": {
            "tags": []
          },
          "execution_count": 10
        },
        {
          "output_type": "display_data",
          "data": {
            "image/png": "[encoded data removed]",
            "text/plain": [
              "<Figure size 432x288 with 1 Axes>"
            ]
          },
          "metadata": {
            "tags": [],
            "needs_background": "light"
          }
        }
      ]
    },
    {
      "cell_type": "markdown",
      "metadata": {
        "id": "Wxg3W7fKI91r",
        "colab_type": "text"
      },
      "source": [
        "### 7.1 Comparar los resultados\n",
        "\n",
        "<< Discutir los resultados obtenidos en las gráficas>>"
      ]
    },
    {
      "cell_type": "markdown",
      "metadata": {
        "id": "RF-bEDB0JGsb",
        "colab_type": "text"
      },
      "source": [
        "## 8. Evaluar los resultados\n",
        "\n",
        "Construir las **matrices de confusión** para los dos modelos (RNN y LSTM). Indicando en cada fila el idioma real y en las columnas el idioma predicho. Graficar matriz de confusión como la vista en clases."
      ]
    },
    {
      "cell_type": "code",
      "metadata": {
        "id": "mQBN_Xh5Jjfg",
        "colab_type": "code",
        "colab": {
          "base_uri": "https://localhost:8080/",
          "height": 320
        },
        "outputId": "e92adbc0-f397-4c41-f61c-ae3b9119042c"
      },
      "source": [
        "#Matriz para RNN\n",
        "\n",
        "# Keep track of correct guesses in a confusion matrix\n",
        "confusion = torch.zeros(n_categories, n_categories)\n",
        "n_confusion = 10000\n",
        "\n",
        "# Just return an output given a line\n",
        "def evaluate_rnn(line_tensor):\n",
        "    hidden = rnn.initHidden()\n",
        "\n",
        "    for i in range(line_tensor.size()[0]):\n",
        "        output, hidden = rnn(line_tensor[i], hidden)\n",
        "\n",
        "    return output\n",
        "\n",
        "# Go through a bunch of examples and record which are correctly guessed\n",
        "for i in range(n_confusion):\n",
        "    category, line, category_tensor, line_tensor = randomTrainingExample()\n",
        "    output = evaluate_rnn(line_tensor)\n",
        "    guess, guess_i = categoryFromOutput(output)\n",
        "    category_i = all_categories.index(category)\n",
        "    confusion[category_i][guess_i] += 1\n",
        "\n",
        "# Normalize by dividing every row by its sum\n",
        "for i in range(n_categories):\n",
        "    confusion[i] = confusion[i] / confusion[i].sum()\n",
        "\n",
        "# Set up plot\n",
        "fig = plt.figure()\n",
        "ax = fig.add_subplot(111)\n",
        "cax = ax.matshow(confusion.numpy())\n",
        "fig.colorbar(cax)\n",
        "\n",
        "# Set up axes\n",
        "ax.set_xticklabels([''] + all_categories, rotation=90)\n",
        "ax.set_yticklabels([''] + all_categories)\n",
        "\n",
        "# Force label at every tick\n",
        "ax.xaxis.set_major_locator(ticker.MultipleLocator(1))\n",
        "ax.yaxis.set_major_locator(ticker.MultipleLocator(1))\n",
        "\n",
        "# sphinx_gallery_thumbnail_number = 2\n",
        "plt.show()"
      ],
      "execution_count": 37,
      "outputs": [
        {
          "output_type": "display_data",
          "data": {
            "image/png": "[encoded data removed]",
            "text/plain": [
              "<Figure size 432x288 with 2 Axes>"
            ]
          },
          "metadata": {
            "tags": [],
            "needs_background": "light"
          }
        }
      ]
    },
    {
      "cell_type": "code",
      "metadata": {
        "id": "6Jh_CGq4pKt0",
        "colab_type": "code",
        "colab": {
          "base_uri": "https://localhost:8080/",
          "height": 320
        },
        "outputId": "7860dceb-e511-4d32-8255-8e01acd95ffd"
      },
      "source": [
        "#Matriz de confusión para LSTM\n",
        "\n",
        "# Keep track of correct guesses in a confusion matrix\n",
        "confusion = torch.zeros(n_categories, n_categories)\n",
        "n_confusion = 10000\n",
        "\n",
        "# Just return an output given a line\n",
        "def evaluate_lstm(line_tensor):\n",
        "    hidden = lstm.init_hidden()\n",
        "\n",
        "    for i in range(line_tensor.size()[0]):\n",
        "        output, hidden = lstm(line_tensor[i], hidden)\n",
        "\n",
        "    return output\n",
        "\n",
        "# Go through a bunch of examples and record which are correctly guessed\n",
        "for i in range(n_confusion):\n",
        "    category, line, category_tensor, line_tensor = randomTrainingExample()\n",
        "    output = evaluate_lstm(line_tensor)\n",
        "    guess, guess_i = categoryFromOutput(output)\n",
        "    category_i = all_categories.index(category)\n",
        "    confusion[category_i][guess_i] += 1\n",
        "\n",
        "# Normalize by dividing every row by its sum\n",
        "for i in range(n_categories):\n",
        "    confusion[i] = confusion[i] / confusion[i].sum()\n",
        "\n",
        "# Set up plot\n",
        "fig = plt.figure()\n",
        "ax = fig.add_subplot(111)\n",
        "cax = ax.matshow(confusion.numpy())\n",
        "fig.colorbar(cax)\n",
        "\n",
        "# Set up axes\n",
        "ax.set_xticklabels([''] + all_categories, rotation=90)\n",
        "ax.set_yticklabels([''] + all_categories)\n",
        "\n",
        "# Force label at every tick\n",
        "ax.xaxis.set_major_locator(ticker.MultipleLocator(1))\n",
        "ax.yaxis.set_major_locator(ticker.MultipleLocator(1))\n",
        "\n",
        "# sphinx_gallery_thumbnail_number = 2\n",
        "plt.show()"
      ],
      "execution_count": 24,
      "outputs": [
        {
          "output_type": "display_data",
          "data": {
            "image/png": "[encoded data removed]",
            "text/plain": [
              "<Figure size 432x288 with 2 Axes>"
            ]
          },
          "metadata": {
            "tags": [],
            "needs_background": "light"
          }
        }
      ]
    },
    {
      "cell_type": "markdown",
      "metadata": {
        "id": "XuNyyDkvJlm8",
        "colab_type": "text"
      },
      "source": [
        "### 8.1 Calcular métricas\n",
        "\n",
        "Calcular tasa de acierto, presición, sensibilidad (recall) y f1-score para ambos modelos. Comparar sus resultados\n",
        "\n",
        "### 8.2 Comparar resultados\n",
        "\n",
        "<< Explicar resultados>>"
      ]
    },
    {
      "cell_type": "code",
      "metadata": {
        "id": "Dpuzi8-FtbGq",
        "colab_type": "code",
        "colab": {
          "base_uri": "https://localhost:8080/",
          "height": 187
        },
        "outputId": "3f392d9f-bdb2-463c-8b66-e31905b33108"
      },
      "source": [
        "from sklearn.metrics import classification_report\n",
        "\n",
        "y_true = [0, 1, 2, 2, 2]\n",
        "y_pred = [0, 0, 2, 2, 1]\n",
        "\n",
        "target_names = ['class 0', 'class 1', 'class 2']\n",
        "\n",
        "print(classification_report(y_true, y_pred, target_names=target_names))"
      ],
      "execution_count": 90,
      "outputs": [
        {
          "output_type": "stream",
          "text": [
            "              precision    recall  f1-score   support\n",
            "\n",
            "     class 0       0.50      1.00      0.67         1\n",
            "     class 1       0.00      0.00      0.00         1\n",
            "     class 2       1.00      0.67      0.80         3\n",
            "\n",
            "    accuracy                           0.60         5\n",
            "   macro avg       0.50      0.56      0.49         5\n",
            "weighted avg       0.70      0.60      0.61         5\n",
            "\n"
          ],
          "name": "stdout"
        }
      ]
    },
    {
      "cell_type": "markdown",
      "metadata": {
        "id": "wS0Kj_8vKFQ1",
        "colab_type": "text"
      },
      "source": [
        "## 9. Probar ambos modelos\n",
        "\n",
        "Probar ambos modelos con las palabras: Dovesky, Jackson, Satoshi, Bekios y su apellido o nombre."
      ]
    },
    {
      "cell_type": "code",
      "metadata": {
        "id": "Ksh3aK-MKXp0",
        "colab_type": "code",
        "colab": {
          "base_uri": "https://localhost:8080/",
          "height": 442
        },
        "outputId": "f0183590-0373-4a61-ef82-a201c92786de"
      },
      "source": [
        "#RNN\n",
        "def predict_rnn(input_line, n_predictions=3):\n",
        "    print('\\n> %s' % input_line)\n",
        "    with torch.no_grad():\n",
        "        output = evaluate_rnn(lineToTensor(input_line))\n",
        "\n",
        "        # Get top N categories\n",
        "        topv, topi = output.topk(n_predictions, 1, True)\n",
        "        predictions = []\n",
        "\n",
        "        for i in range(n_predictions):\n",
        "            value = topv[0][i].item()\n",
        "            category_index = topi[0][i].item()\n",
        "            print('(%.2f) %s' % (value, all_categories[category_index]))\n",
        "            predictions.append([value, all_categories[category_index]])\n",
        "\n",
        "predict_rnn('Dovesky')\n",
        "predict_rnn('Jackson')\n",
        "predict_rnn('Satoshi')\n",
        "predict_rnn('Bekios')\n",
        "predict_rnn('Garcia')"
      ],
      "execution_count": 31,
      "outputs": [
        {
          "output_type": "stream",
          "text": [
            "\n",
            "> Dovesky\n",
            "(-0.47) Russian\n",
            "(-1.94) Czech\n",
            "(-2.59) Irish\n",
            "\n",
            "> Jackson\n",
            "(-0.65) Scottish\n",
            "(-1.34) English\n",
            "(-2.75) Russian\n",
            "\n",
            "> Satoshi\n",
            "(-0.63) Japanese\n",
            "(-1.95) Italian\n",
            "(-2.27) Arabic\n",
            "\n",
            "> Bekios\n",
            "(-0.89) Greek\n",
            "(-1.82) Arabic\n",
            "(-2.35) English\n",
            "\n",
            "> Garcia\n",
            "(-0.86) Spanish\n",
            "(-1.61) Portuguese\n",
            "(-1.82) Arabic\n"
          ],
          "name": "stdout"
        }
      ]
    },
    {
      "cell_type": "code",
      "metadata": {
        "id": "IoW_ziLey4fO",
        "colab_type": "code",
        "colab": {
          "base_uri": "https://localhost:8080/",
          "height": 442
        },
        "outputId": "bfb9ca75-aa7b-4101-86cf-3d72100a43bc"
      },
      "source": [
        "#LSTM predict\n",
        "\n",
        "def predict_lstm(input_line, n_predictions=3):\n",
        "    print('\\n> %s' % input_line)\n",
        "    with torch.no_grad():\n",
        "        output = evaluate_lstm(lineToTensor(input_line))\n",
        "\n",
        "        # Get top N categories\n",
        "        topv, topi = output.topk(n_predictions, 1, True)\n",
        "        predictions = []\n",
        "\n",
        "        for i in range(n_predictions):\n",
        "            value = topv[0][i].item()\n",
        "            category_index = topi[0][i].item()\n",
        "            print('(%.2f) %s' % (value, all_categories[category_index]))\n",
        "            predictions.append([value, all_categories[category_index]])\n",
        "\n",
        "predict_lstm('Dovesky')\n",
        "predict_lstm('Jackson')\n",
        "predict_lstm('Satoshi')\n",
        "predict_lstm('Bekios')\n",
        "predict_lstm('Garcia')"
      ],
      "execution_count": 32,
      "outputs": [
        {
          "output_type": "stream",
          "text": [
            "\n",
            "> Dovesky\n",
            "(-1.03) Czech\n",
            "(-1.10) Polish\n",
            "(-1.42) Russian\n",
            "\n",
            "> Jackson\n",
            "(-0.73) Scottish\n",
            "(-1.71) Polish\n",
            "(-2.21) English\n",
            "\n",
            "> Satoshi\n",
            "(-0.18) Japanese\n",
            "(-2.39) Arabic\n",
            "(-3.07) Polish\n",
            "\n",
            "> Bekios\n",
            "(-0.19) Greek\n",
            "(-3.43) Arabic\n",
            "(-3.52) Portuguese\n",
            "\n",
            "> Garcia\n",
            "(-0.59) Portuguese\n",
            "(-1.46) Spanish\n",
            "(-2.24) Italian\n"
          ],
          "name": "stdout"
        }
      ]
    }
  ]
}